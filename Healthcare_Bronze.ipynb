{
 "cells": [
  {
   "cell_type": "code",
   "execution_count": 0,
   "metadata": {
    "application/vnd.databricks.v1+cell": {
     "cellMetadata": {
      "byteLimit": 2048000,
      "rowLimit": 10000
     },
     "inputWidgets": {},
     "nuid": "7afc0588-fce7-438d-a4d5-2941c10ba817",
     "showTitle": false,
     "tableResultSettingsMap": {},
     "title": ""
    }
   },
   "outputs": [],
   "source": [
    "import dlt\n",
    "from pyspark.sql.functions import (\n",
    "    col, expr, to_date, year, current_date, upper, trim, regexp_replace, when, lit, sha2, concat_ws, lower\n",
    ")\n",
    "from pyspark.sql.types import (\n",
    "    StringType, IntegerType, DoubleType, DateType, TimestampType\n",
    ")\n",
    "\n",
    "# --- Bronze Claims (Batch Read) ---\n",
    "@dlt.table(\n",
    "        name=\"bronze_claims_batch\",\n",
    "        comment=\"Raw claims ingested from CSV file using batch read.\",\n",
    "        table_properties={\n",
    "                \"quality\": \"bronze\",\n",
    "                \"data_source\": \"claims_csv_batch\"\n",
    "        }\n",
    ")\n",
    "def bronze_claims_batch():\n",
    "        schema = \"ClaimID STRING, MemberID STRING, ProviderID STRING, ClaimDate DATE, ServiceDate DATE, Amount Double, status STRING, ICD10Codes STRING, CPTCodes STRING, ClaimType STRING, SubmissionChannel STRING, Notes STRING, IngestTimestamp TIMESTAMP\"\n",
    "        return (\n",
    "                spark.read\n",
    "                .format(\"csv\")\n",
    "                .option(\"header\", \"true\")\n",
    "                .schema(schema)\n",
    "                .load(\"/Volumes/jk_unity/default/volume/claims_batch.csv\")\n",
    "        )\n",
    "\n",
    "# --- Bronze members (Batch Read) ---\n",
    "@dlt.table(\n",
    "        name=\"bronze_members_batch\",\n",
    "        comment=\"Raw members ingested from CSV file using batch read.\",\n",
    "        table_properties={\n",
    "                \"quality\": \"bronze\",\n",
    "                \"data_source\": \"members_batch\"\n",
    "        }\n",
    ")\n",
    "def bronze_members_batch():\n",
    "        schema = \"MemberID STRING, Name STRING, DOB DATE, Gender STRING, Region STRING, PlanType STRING, EffectiveDate DATE, Email STRING, IsActive INTEGER, LastUpdated DATE\"\n",
    "        return (\n",
    "                spark.read\n",
    "                .format(\"csv\")\n",
    "                .option(\"header\", \"true\")\n",
    "                .schema(schema)\n",
    "                .load(\"/Volumes/jk_unity/default/volume/members.csv\")\n",
    "        )\n",
    "\n",
    "# --- Bronze diagnosis_ref (Batch Read) ---\n",
    "@dlt.table(\n",
    "        name=\"bronze_diagnosis_ref_batch\",\n",
    "        comment=\"Raw diagnosis_ref ingested from CSV file using batch read.\",\n",
    "        table_properties={\n",
    "                \"quality\": \"bronze\",\n",
    "                \"data_source\": \"diagnosis_ref_batch\"\n",
    "        }\n",
    ")\n",
    "def bronze_diagnosis_ref_batch():\n",
    "        schema = \"Code STRING, Description STRING\"\n",
    "        return (\n",
    "                spark.read\n",
    "                .format(\"csv\")\n",
    "                .option(\"header\", \"true\")\n",
    "                .schema(schema)\n",
    "                .load(\"/Volumes/jk_unity/default/volume/diagnosis_ref.csv\")\n",
    "        )\n",
    "\n",
    "# --- Bronze providers (Batch Read) ---\n",
    "@dlt.table(\n",
    "        name=\"bronze_providers_batch\",\n",
    "        comment=\"Raw providers ingested from JSON file using batch read.\",\n",
    "        table_properties={\n",
    "                \"quality\": \"bronze\",\n",
    "                \"data_source\": \"providers_batch\"\n",
    "        }\n",
    ")\n",
    "def bronze_providers_batch():\n",
    "        return (\n",
    "                spark.read\n",
    "                .format(\"json\")\n",
    "#                .option(\"inferSchema\", \"true\")\n",
    "                .load(\"/Volumes/jk_unity/default/volume/providers.json\")\n",
    "        )\n",
    "\n",
    "# --- Bronze Claims (Streaming Read) ---\n",
    "@dlt.table(\n",
    "        name=\"bronze_claims_stream\",\n",
    "        comment=\"Raw claims ingested from JSON file using streaming read.\",\n",
    "        table_properties={\n",
    "                \"quality\": \"bronze\",\n",
    "                \"data_source\": \"claims_json_stream\"\n",
    "        }\n",
    ")\n",
    "def bronze_claims_stream():\n",
    "        schema = \"ClaimID STRING, MemberID STRING, ProviderID STRING, ClaimDate DATE, ServiceDate DATE, Amount Double, status STRING, ICD10Codes STRING, CPTCodes STRING, ClaimType STRING, SubmissionChannel STRING, Notes STRING, IngestTimestamp TIMESTAMP\"\n",
    "        return (\n",
    "                spark.readStream\n",
    "                .format(\"json\")\n",
    "                .schema(schema)\n",
    "                .load(\"/Volumes/jk_unity/default/volume/claims_stream/\")\n",
    "        )\n",
    "        \n",
    "# The error is fixed by changing the path in spark.readStream.load() to a directory, not a file."
   ]
  },
  {
   "cell_type": "code",
   "execution_count": 0,
   "metadata": {
    "application/vnd.databricks.v1+cell": {
     "cellMetadata": {},
     "inputWidgets": {},
     "nuid": "afd5d550-fa20-4e12-9540-c1e040c5ac9f",
     "showTitle": false,
     "tableResultSettingsMap": {},
     "title": ""
    }
   },
   "outputs": [],
   "source": []
  }
 ],
 "metadata": {
  "application/vnd.databricks.v1+notebook": {
   "computePreferences": {
    "hardware": {
     "accelerator": null,
     "gpuPoolId": null,
     "memory": null
    }
   },
   "dashboards": [],
   "environmentMetadata": {
    "base_environment": "",
    "environment_version": "3"
   },
   "inputWidgetPreferences": null,
   "language": "python",
   "notebookMetadata": {
    "pythonIndentUnit": 4
   },
   "notebookName": "Healthcare_Bronze",
   "widgets": {}
  },
  "language_info": {
   "name": "python"
  }
 },
 "nbformat": 4,
 "nbformat_minor": 0
}
