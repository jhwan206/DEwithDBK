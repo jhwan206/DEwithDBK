{
 "cells": [
  {
   "cell_type": "code",
   "execution_count": 0,
   "metadata": {
    "application/vnd.databricks.v1+cell": {
     "cellMetadata": {
      "byteLimit": 2048000,
      "rowLimit": 10000
     },
     "inputWidgets": {},
     "nuid": "981f11a3-c52d-43e9-a205-437758d0a1b4",
     "showTitle": false,
     "tableResultSettingsMap": {},
     "title": ""
    }
   },
   "outputs": [],
   "source": [
    "CREATE OR REFRESH MATERIALIZED VIEW jk_unity.default.gold_claims_summary\n",
    "AS\n",
    "SELECT \n",
    "  CL.ClaimID, \n",
    "  MB.Name, \n",
    "  CL.ClaimType, \n",
    "  MB.Region, \n",
    "  MB.PlanType, \n",
    "  RF.Description, \n",
    "  substr(STRING(CL.ClaimDate), 1, 7) AS ClaimMonth, \n",
    "  SUM(CL.Amount) AS MonthlyAmount \n",
    "FROM jk_unity.default.silver_claims_batch CL\n",
    "JOIN jk_unity.default.silver_members_batch MB \n",
    "  ON CL.MemberID = MB.MemberID\n",
    "JOIN jk_unity.default.silver_diagnosis_ref_batch RF \n",
    "  ON CL.ICD10Codes = RF.Code\n",
    "WHERE UPPER(CL.status) = 'APPROVED'\n",
    "GROUP BY \n",
    "  CL.ClaimID, \n",
    "  MB.Name, \n",
    "  CL.ClaimType, \n",
    "  MB.Region, \n",
    "  MB.PlanType, \n",
    "  RF.Description, \n",
    "  substr(STRING(CL.ClaimDate), 1, 7)\n",
    "ORDER BY \n",
    "  ClaimMonth, \n",
    "  CL.ClaimID;"
   ]
  }
 ],
 "metadata": {
  "application/vnd.databricks.v1+notebook": {
   "computePreferences": null,
   "dashboards": [],
   "environmentMetadata": {
    "base_environment": "",
    "environment_version": "3"
   },
   "inputWidgetPreferences": null,
   "language": "sql",
   "notebookMetadata": {
    "pythonIndentUnit": 4
   },
   "notebookName": "Healthcare_Gold",
   "widgets": {}
  },
  "language_info": {
   "name": "sql"
  }
 },
 "nbformat": 4,
 "nbformat_minor": 0
}
