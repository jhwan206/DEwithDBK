{
 "cells": [
  {
   "cell_type": "code",
   "execution_count": 0,
   "metadata": {
    "application/vnd.databricks.v1+cell": {
     "cellMetadata": {
      "byteLimit": 2048000,
      "rowLimit": 10000
     },
     "inputWidgets": {},
     "nuid": "1ef52a25-c627-4260-b998-bafb9a86dcb9",
     "showTitle": false,
     "tableResultSettingsMap": {},
     "title": ""
    }
   },
   "outputs": [],
   "source": [
    "csv_path = \"dbfs:/FileStore/data/sales.csv\"\n",
    "\n",
    "sales_df = spark.read.option(\"header\", True)\\\n",
    "               .option(\"escape\", '\"')\\\n",
    "               .option(\"quote\", '\"')\\\n",
    "               .option(\"multiLine\", True)\\\n",
    "               .csv(\"dbfs:/FileStore/data/sales.csv\")\n",
    "\n",
    "print(\"Raw data sample:\")\n",
    "sales_df.show(5, truncate=False)"
   ]
  },
  {
   "cell_type": "code",
   "execution_count": 0,
   "metadata": {
    "application/vnd.databricks.v1+cell": {
     "cellMetadata": {
      "byteLimit": 2048000,
      "rowLimit": 10000
     },
     "inputWidgets": {},
     "nuid": "67397f45-df60-43a4-aad8-75db8f8e3d8a",
     "showTitle": false,
     "tableResultSettingsMap": {},
     "title": ""
    }
   },
   "outputs": [],
   "source": [
    "from pyspark.sql.functions import col\n",
    "\n",
    "clean_df = sales_df.dropDuplicates() \\\n",
    "    .dropna(subset=[\"Quantity\", \"CustomerName\"]) \\\n",
    "    .withColumn(\"Quantity\", col(\"Quantity\").cast(\"int\")) \\\n",
    "    .withColumn(\"UnitPrice\", col(\"UnitPrice\").cast(\"float\"))\n",
    "\n",
    "print(\"Cleaned data preview:\")\n",
    "clean_df.show(5, truncate=False)"
   ]
  },
  {
   "cell_type": "code",
   "execution_count": 0,
   "metadata": {
    "application/vnd.databricks.v1+cell": {
     "cellMetadata": {
      "byteLimit": 2048000,
      "rowLimit": 10000
     },
     "inputWidgets": {},
     "nuid": "039a4ffe-00f2-4459-b451-ee5513aff8f5",
     "showTitle": false,
     "tableResultSettingsMap": {
      "0": {
       "dataGridStateBlob": "{\"version\":1,\"tableState\":{\"columnPinning\":{\"left\":[\"#row_number#\"],\"right\":[]},\"columnSizing\":{},\"columnVisibility\":{}},\"settings\":{\"columns\":{}},\"syncTimestamp\":1754558518981}",
       "filterBlob": null,
       "queryPlanFiltersBlob": null,
       "tableResultIndex": 0
      }
     },
     "title": ""
    }
   },
   "outputs": [],
   "source": [
    "clean_df.display()"
   ]
  },
  {
   "cell_type": "code",
   "execution_count": 0,
   "metadata": {
    "application/vnd.databricks.v1+cell": {
     "cellMetadata": {
      "byteLimit": 2048000,
      "rowLimit": 10000
     },
     "inputWidgets": {},
     "nuid": "7f59e12b-7eee-4006-9e0f-519c4445cccd",
     "showTitle": false,
     "tableResultSettingsMap": {
      "0": {
       "dataGridStateBlob": "{\"version\":1,\"tableState\":{\"columnPinning\":{\"left\":[\"#row_number#\"],\"right\":[]},\"columnSizing\":{},\"columnVisibility\":{}},\"settings\":{\"columns\":{}},\"syncTimestamp\":1754558528624}",
       "filterBlob": null,
       "queryPlanFiltersBlob": null,
       "tableResultIndex": 0
      }
     },
     "title": ""
    }
   },
   "outputs": [],
   "source": [
    "from pyspark.sql.functions import from_json, regexp_replace\n",
    "from pyspark.sql.types import StructType, StructField, StringType\n",
    "\n",
    "# Clean JSON string in ProductMetadata\n",
    "clean_df = clean_df.withColumn(\n",
    "    \"ProductMetadata_clean\",\n",
    "    regexp_replace(col(\"ProductMetadata\"), '^\"+|\"+$', '')\n",
    ").withColumn(\n",
    "    \"ProductMetadata_clean\",\n",
    "    regexp_replace(col(\"ProductMetadata_clean\"), '\"\"', '\"')\n",
    ")\n",
    "\n",
    "clean_df.display()"
   ]
  },
  {
   "cell_type": "code",
   "execution_count": 0,
   "metadata": {
    "application/vnd.databricks.v1+cell": {
     "cellMetadata": {
      "byteLimit": 2048000,
      "rowLimit": 10000
     },
     "inputWidgets": {},
     "nuid": "842c2b7b-0b67-45e0-9231-6b8f0def2ffb",
     "showTitle": false,
     "tableResultSettingsMap": {},
     "title": ""
    }
   },
   "outputs": [],
   "source": [
    "from pyspark.sql.functions import from_json, regexp_replace\n",
    "from pyspark.sql.types import StructType, StructField, StringType\n",
    "\n",
    "# Clean JSON string in ProductMetadata\n",
    "clean_df = clean_df.withColumn(\n",
    "    \"ProductMetadata_clean\",\n",
    "    regexp_replace(col(\"ProductMetadata\"), '^\"+|\"+$', '')\n",
    ").withColumn(\n",
    "    \"ProductMetadata_clean\",\n",
    "    regexp_replace(col(\"ProductMetadata_clean\"), '\"\"', '\"')\n",
    ")\n",
    "\n",
    "# Define schema for JSON parsing\n",
    "json_schema = StructType([\n",
    "    StructField(\"color\", StringType(), True),\n",
    "    StructField(\"warranty\", StringType(), True)\n",
    "])\n",
    "\n",
    "# Parse JSON column\n",
    "clean_df = clean_df.withColumn(\"ProductDetails\", from_json(col(\"ProductMetadata_clean\"), json_schema))\n",
    "\n",
    "# Extract fields\n",
    "clean_df = clean_df.withColumn(\"color\", col(\"ProductDetails.color\")) \\\n",
    "    .withColumn(\"warranty\", col(\"ProductDetails.warranty\"))\n",
    "\n",
    "print(\"Data with parsed JSON fields:\")\n",
    "clean_df.select(\"SalesOrderNumber\", \"color\", \"warranty\").show(5)"
   ]
  },
  {
   "cell_type": "code",
   "execution_count": 0,
   "metadata": {
    "application/vnd.databricks.v1+cell": {
     "cellMetadata": {
      "byteLimit": 2048000,
      "rowLimit": 10000
     },
     "inputWidgets": {},
     "nuid": "e2a3c992-fbba-4e64-9100-f7f97e8cb0c3",
     "showTitle": false,
     "tableResultSettingsMap": {},
     "title": ""
    }
   },
   "outputs": [],
   "source": [
    "clean_df.write.format(\"delta\").mode(\"overwrite\").saveAsTable(\"sales_cleaned\")\n",
    "print(\"Delta table 'sales_cleaned' created.\")"
   ]
  },
  {
   "cell_type": "code",
   "execution_count": 0,
   "metadata": {
    "application/vnd.databricks.v1+cell": {
     "cellMetadata": {
      "byteLimit": 2048000,
      "rowLimit": 10000
     },
     "inputWidgets": {},
     "nuid": "11cfd9ba-7855-4b46-9a46-881a722f3fda",
     "showTitle": false,
     "tableResultSettingsMap": {},
     "title": ""
    }
   },
   "outputs": [],
   "source": [
    "from pyspark.sql.functions import sum as _sum\n",
    "\n",
    "agg_df = clean_df.groupBy(\"CustomerName\").agg(\n",
    "    _sum(col(\"Quantity\") * col(\"UnitPrice\")).alias(\"TotalSales\")\n",
    ")\n",
    "\n",
    "print(\"Aggregated sales per customer:\")\n",
    "agg_df.show(10)"
   ]
  }
 ],
 "metadata": {
  "application/vnd.databricks.v1+notebook": {
   "computePreferences": null,
   "dashboards": [],
   "environmentMetadata": {
    "base_environment": "",
    "environment_version": "2"
   },
   "inputWidgetPreferences": null,
   "language": "python",
   "notebookMetadata": {
    "pythonIndentUnit": 4
   },
   "notebookName": "Untitled Notebook 2025-08-07 14:55:13",
   "widgets": {}
  },
  "language_info": {
   "name": "python"
  }
 },
 "nbformat": 4,
 "nbformat_minor": 0
}
